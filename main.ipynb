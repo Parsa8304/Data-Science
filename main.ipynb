{
 "cells": [
  {
   "cell_type": "markdown",
   "id": "bd77d19e",
   "metadata": {},
   "source": [
    "# Titanic Data Analysis\n",
    "\n",
    "We have a dataset containing information about the passengers of the legendary Titanic ship. In this project, we will analyze the data to extract meaningful insights and answer key questions about survival rates and passenger characteristics.\n",
    "\n",
    "---\n",
    "\n",
    "**Instructor:** Prof. Samadzadeh  \n",
    "**Contributors:** Parsa Khezli, Amir Omidvar  \n",
    "**Course:** Data Science, Spring 1404\n",
    "\n",
    "---"
   ]
  },
  {
   "cell_type": "markdown",
   "id": "9e1b7627",
   "metadata": {},
   "source": [
    "# Importing the required libraries"
   ]
  },
  {
   "cell_type": "code",
   "execution_count": null,
   "id": "8a0fccaa",
   "metadata": {},
   "outputs": [],
   "source": [
    "import numpy as np\n",
    "import pandas as pd\n",
    "import seaborn as sns\n",
    "import matplotlib.pyplot as plt"
   ]
  },
  {
   "cell_type": "markdown",
   "id": "9bea3e66",
   "metadata": {},
   "source": [
    "# Loading the the file"
   ]
  },
  {
   "cell_type": "code",
   "execution_count": null,
   "id": "b57ca0e8",
   "metadata": {},
   "outputs": [],
   "source": [
    "df = pd.read_csv('titanic.csv')"
   ]
  },
  {
   "cell_type": "markdown",
   "id": "2ef284bd",
   "metadata": {},
   "source": [
    "**Display the first few rows**"
   ]
  },
  {
   "cell_type": "code",
   "execution_count": null,
   "id": "eaa5efd2",
   "metadata": {},
   "outputs": [],
   "source": [
    "df.head()"
   ]
  },
  {
   "cell_type": "markdown",
   "id": "ff9d105c",
   "metadata": {},
   "source": [
    "**Basic Information**"
   ]
  },
  {
   "cell_type": "code",
   "execution_count": null,
   "id": "e0d9d808",
   "metadata": {},
   "outputs": [],
   "source": [
    "print(\"Shape of the dataset:\", df.shape)\n",
    "print(\"\\nData Types:\\n\", df.dtypes)\n",
    "print(\"\\nMissing values:\\n\", df.isnull().sum())"
   ]
  },
  {
   "cell_type": "markdown",
   "id": "21efc2ec",
   "metadata": {},
   "source": [
    "**Statiscal Summary**"
   ]
  },
  {
   "cell_type": "code",
   "execution_count": null,
   "id": "fa35fb15",
   "metadata": {},
   "outputs": [],
   "source": [
    "df.describe(include='all')"
   ]
  },
  {
   "cell_type": "markdown",
   "id": "14874fdc",
   "metadata": {},
   "source": [
    "**Visualize Missing Data**"
   ]
  },
  {
   "cell_type": "code",
   "execution_count": null,
   "id": "6aef2abc",
   "metadata": {},
   "outputs": [],
   "source": [
    "plt.figure(figsize=(10,6))\n",
    "sns.heatmap(df.isnull(), cbar=False, cmap='viridis')\n",
    "plt.title('Missing Values Heatmap')\n",
    "plt.show()"
   ]
  },
  {
   "cell_type": "markdown",
   "id": "c4e91c7c",
   "metadata": {},
   "source": [
    "**Survival Rate**"
   ]
  },
  {
   "cell_type": "code",
   "execution_count": null,
   "id": "9a441aec",
   "metadata": {},
   "outputs": [],
   "source": [
    "survival_rate = df['Survived'].mean()\n",
    "print(f\"Overall Survival Rate: {survival_rate:.2%}\")"
   ]
  },
  {
   "cell_type": "markdown",
   "id": "8d29a1bc",
   "metadata": {},
   "source": [
    "**Survival by Sex**"
   ]
  },
  {
   "cell_type": "code",
   "execution_count": null,
   "id": "5a62f327",
   "metadata": {},
   "outputs": [],
   "source": [
    "plt.figure(figsize=(6,4))\n",
    "sns.barplot(x='Sex', y='Survived', data=df)\n",
    "plt.title('Survival Rate by Sex')\n",
    "plt.show()"
   ]
  },
  {
   "cell_type": "markdown",
   "id": "34f08787",
   "metadata": {},
   "source": [
    "**Survival by Passenger Class**"
   ]
  },
  {
   "cell_type": "code",
   "execution_count": null,
   "id": "29420962",
   "metadata": {},
   "outputs": [],
   "source": [
    "plt.figure(figsize=(6,4))\n",
    "sns.barplot(x='Pclass', y='Survived', data=df)\n",
    "plt.title('Survival Rate by Passenger Class')\n",
    "plt.show()"
   ]
  },
  {
   "cell_type": "markdown",
   "id": "88db453b",
   "metadata": {},
   "source": [
    "**Age Distribution**"
   ]
  },
  {
   "cell_type": "code",
   "execution_count": null,
   "id": "67863bdb",
   "metadata": {},
   "outputs": [],
   "source": [
    "plt.figure(figsize=(8,4))\n",
    "sns.histplot(df['Age'].dropna(), bins=30, kde=True)\n",
    "plt.title('Age Distribution')\n",
    "plt.show()"
   ]
  },
  {
   "cell_type": "markdown",
   "id": "8fb8aae4",
   "metadata": {},
   "source": [
    "**Survival by Age**"
   ]
  },
  {
   "cell_type": "code",
   "execution_count": null,
   "id": "34dd5895",
   "metadata": {},
   "outputs": [],
   "source": [
    "plt.figure(figsize=(8,4))\n",
    "sns.histplot(data=df, x='Age', hue='Survived', bins=30, kde=True, multiple='stack')\n",
    "plt.title('Survival by Age')\n",
    "plt.show()\n"
   ]
  },
  {
   "cell_type": "markdown",
   "id": "39886ba5",
   "metadata": {},
   "source": [
    "**Survival by Embarked**"
   ]
  },
  {
   "cell_type": "code",
   "execution_count": null,
   "id": "ce017a45",
   "metadata": {},
   "outputs": [],
   "source": [
    "plt.figure(figsize=(6,4))\n",
    "sns.barplot(x='Embarked', y='Survived', data=df)\n",
    "plt.title('Survival Rate by Embarked Port')\n",
    "plt.show()"
   ]
  },
  {
   "cell_type": "markdown",
   "id": "6679f684",
   "metadata": {},
   "source": [
    "**Correlation Heatmap**"
   ]
  },
  {
   "cell_type": "code",
   "execution_count": null,
   "id": "586ead4f",
   "metadata": {},
   "outputs": [],
   "source": [
    "plt.figure(figsize=(10,6))\n",
    "sns.heatmap(df.corr(numeric_only=True), annot=True, cmap='coolwarm')\n",
    "plt.title('Correlation Heatmap')\n",
    "plt.show()"
   ]
  },
  {
   "cell_type": "markdown",
   "id": "744b511b",
   "metadata": {},
   "source": [
    "**Feature Engineering: Family Size**"
   ]
  },
  {
   "cell_type": "code",
   "execution_count": null,
   "id": "ef8074d2",
   "metadata": {},
   "outputs": [],
   "source": [
    "df['FamilySize'] = df['SibSp'] + df['Parch'] + 1\n",
    "\n",
    "plt.figure(figsize=(6,4))\n",
    "sns.barplot(x='FamilySize', y='Survived', data=df)\n",
    "plt.title('Survival Rate by Family Size')\n",
    "plt.show()\n"
   ]
  },
  {
   "cell_type": "markdown",
   "id": "7670beb4",
   "metadata": {},
   "source": [
    "**Survival by Fare**"
   ]
  },
  {
   "cell_type": "code",
   "execution_count": null,
   "id": "a8471119",
   "metadata": {},
   "outputs": [],
   "source": [
    "plt.figure(figsize=(8,4))\n",
    "sns.histplot(data=df, x='Fare', hue='Survived', bins=30, kde=True, multiple='stack')\n",
    "plt.title('Survival by Fare')\n",
    "plt.show()\n"
   ]
  },
  {
   "cell_type": "markdown",
   "id": "5281b9a3",
   "metadata": {},
   "source": [
    "**Conclusion**"
   ]
  },
  {
   "cell_type": "code",
   "execution_count": 21,
   "id": "bd82a0c0",
   "metadata": {},
   "outputs": [
    {
     "name": "stdout",
     "output_type": "stream",
     "text": [
      "Key Findings:\n",
      "- Females had a much higher survival rate than males.\n",
      "- Passengers in 1st class survived at a higher rate than those in 2nd or 3rd class.\n",
      "- Younger passengers and those with smaller families had higher survival rates.\n",
      "- Embarked port and fare also influenced survival.\n"
     ]
    }
   ],
   "source": [
    "print(\"Key Findings:\")\n",
    "print(\"- Females had a much higher survival rate than males.\")\n",
    "print(\"- Passengers in 1st class survived at a higher rate than those in 2nd or 3rd class.\")\n",
    "print(\"- Younger passengers and those with smaller families had higher survival rates.\")\n",
    "print(\"- Embarked port and fare also influenced survival.\")"
   ]
  }
 ],
 "metadata": {
  "kernelspec": {
   "display_name": "venv",
   "language": "python",
   "name": "python3"
  },
  "language_info": {
   "codemirror_mode": {
    "name": "ipython",
    "version": 3
   },
   "file_extension": ".py",
   "mimetype": "text/x-python",
   "name": "python",
   "nbconvert_exporter": "python",
   "pygments_lexer": "ipython3",
   "version": "3.13.3"
  }
 },
 "nbformat": 4,
 "nbformat_minor": 5
}
